{
 "cells": [
  {
   "cell_type": "markdown",
   "id": "f9931e9f",
   "metadata": {},
   "source": [
    "# Introduction\n",
    "\n",
    "Hier introduction"
   ]
  },
  {
   "cell_type": "markdown",
   "id": "1b05beca",
   "metadata": {},
   "source": [
    "# Dataset and preprocessing\n",
    "\n",
    "Lloyd"
   ]
  },
  {
   "cell_type": "markdown",
   "id": "036a2e9e",
   "metadata": {},
   "source": [
    "# Visualizations\n",
    "\n",
    "4 nearly finished visualizations"
   ]
  }
 ],
 "metadata": {
  "kernelspec": {
   "display_name": "Python 3 (ipykernel)",
   "language": "python",
   "name": "python3"
  },
  "language_info": {
   "codemirror_mode": {
    "name": "ipython",
    "version": 3
   },
   "file_extension": ".py",
   "mimetype": "text/x-python",
   "name": "python",
   "nbconvert_exporter": "python",
   "pygments_lexer": "ipython3",
   "version": "3.10.6"
  }
 },
 "nbformat": 4,
 "nbformat_minor": 5
}
